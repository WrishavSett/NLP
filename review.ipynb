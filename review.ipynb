{
 "cells": [
  {
   "cell_type": "code",
   "execution_count": 1,
   "id": "5fe7936b",
   "metadata": {},
   "outputs": [],
   "source": [
    "import re\n",
    "import joblib\n",
    "import pandas as pd\n",
    "from nltk.corpus import stopwords\n",
    "from nltk.stem.porter import PorterStemmer\n",
    "\n",
    "# Load the Gaussian Naive Bayes model\n",
    "gnb = joblib.load('gnb_model.pkl')\n",
    "\n",
    "# Load the CountVectorizer\n",
    "cv = joblib.load('count_vectorizer.pkl')"
   ]
  },
  {
   "cell_type": "code",
   "execution_count": 2,
   "id": "8a10038c",
   "metadata": {},
   "outputs": [],
   "source": [
    "def predict_review(review):\n",
    "    # Preprocess the review\n",
    "    review = re.sub('[^a-zA-Z]', ' ', review)\n",
    "    review = review.lower()\n",
    "    review = review.split()\n",
    "    ps = PorterStemmer()\n",
    "    all_stopwords = stopwords.words('english')\n",
    "    all_stopwords.remove('not')\n",
    "    review = [ps.stem(word) for word in review if not word in set(all_stopwords)]\n",
    "    review = ' '.join(review)\n",
    "\n",
    "    # Convert review to a matrix of token counts\n",
    "    x_new = cv.transform([review]).toarray()\n",
    "\n",
    "    # Predict using the trained Naive Bayes model\n",
    "    prediction = gnb.predict(x_new)\n",
    "\n",
    "    return prediction[0]"
   ]
  },
  {
   "cell_type": "code",
   "execution_count": 3,
   "id": "b0d523bc",
   "metadata": {},
   "outputs": [
    {
     "name": "stdout",
     "output_type": "stream",
     "text": [
      "Predicted sentiment:\n",
      "Positive\n"
     ]
    }
   ],
   "source": [
    "# Sample usage:\n",
    "customer_review = input(\"Enter review: \")\n",
    "result = predict_review(customer_review)\n",
    "\n",
    "print(\"Predicted sentiment:\")\n",
    "if result == 1:\n",
    "    print(\"Positive\")\n",
    "else:\n",
    "    print(\"Negative\")"
   ]
  },
  {
   "cell_type": "code",
   "execution_count": 6,
   "id": "357a3f77",
   "metadata": {},
   "outputs": [
    {
     "name": "stdout",
     "output_type": "stream",
     "text": [
      "Predicted sentiment:  Good\n",
      "Positive\n",
      "Predicted sentiment:  Yuck\n",
      "Positive\n",
      "Predicted sentiment:  Nice\n",
      "Positive\n",
      "Predicted sentiment:  Bad\n",
      "Negative\n",
      "Predicted sentiment:  Horrible\n",
      "Negative\n"
     ]
    }
   ],
   "source": [
    "import pandas as pd\n",
    "\n",
    "# Initialize an empty DataFrame to store reviews and their predictions\n",
    "df_reviews = pd.DataFrame(columns=['Review', 'Sentiment'])\n",
    "\n",
    "# Sample usage:\n",
    "while True:\n",
    "    customer_review = input(\"Enter your review (or type 'exit' to stop): \")\n",
    "    \n",
    "    # Break loop if user enters 'exit'\n",
    "    if customer_review.strip().lower() == 'exit':\n",
    "        break\n",
    "\n",
    "    result = predict_review(customer_review)\n",
    "    \n",
    "    # Append the review and its prediction to the DataFrame\n",
    "    df_reviews = df_reviews._append({'Review': customer_review, 'Sentiment': result}, ignore_index=True)\n",
    "\n",
    "    print(\"Predicted sentiment: \", customer_review)\n",
    "    if result == 1:\n",
    "        print(\"Positive\")\n",
    "    else:\n",
    "        print(\"Negative\")\n",
    "\n",
    "# Save the DataFrame to a new .tsv file\n",
    "path = 'customer_reviews.tsv'  # specify your desired path here\n",
    "df_reviews.to_csv(path, sep='\\t', index=False)"
   ]
  },
  {
   "cell_type": "code",
   "execution_count": null,
   "id": "5fbf7844",
   "metadata": {},
   "outputs": [],
   "source": []
  }
 ],
 "metadata": {
  "kernelspec": {
   "display_name": "Python 3 (ipykernel)",
   "language": "python",
   "name": "python3"
  },
  "language_info": {
   "codemirror_mode": {
    "name": "ipython",
    "version": 3
   },
   "file_extension": ".py",
   "mimetype": "text/x-python",
   "name": "python",
   "nbconvert_exporter": "python",
   "pygments_lexer": "ipython3",
   "version": "3.11.2"
  }
 },
 "nbformat": 4,
 "nbformat_minor": 5
}
