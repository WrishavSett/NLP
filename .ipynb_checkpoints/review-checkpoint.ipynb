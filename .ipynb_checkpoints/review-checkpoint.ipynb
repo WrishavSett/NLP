{
 "cells": [
  {
   "cell_type": "code",
   "execution_count": 5,
   "id": "5fe7936b",
   "metadata": {},
   "outputs": [],
   "source": [
    "import re\n",
    "import joblib\n",
    "import pandas as pd\n",
    "from nltk.corpus import stopwords\n",
    "from nltk.stem.porter import PorterStemmer\n",
    "\n",
    "# Load the Gaussian Naive Bayes model\n",
    "gnb = joblib.load('gnb_model.pkl')\n",
    "\n",
    "# Load the CountVectorizer\n",
    "cv = joblib.load('count_vectorizer.pkl')"
   ]
  },
  {
   "cell_type": "code",
   "execution_count": 6,
   "id": "8a10038c",
   "metadata": {},
   "outputs": [],
   "source": [
    "def predict_review(review):\n",
    "    # Preprocess the review\n",
    "    review = re.sub('[^a-zA-Z]', ' ', review)\n",
    "    review = review.lower()\n",
    "    review = review.split()\n",
    "    ps = PorterStemmer()\n",
    "    all_stopwords = stopwords.words('english')\n",
    "    all_stopwords.remove('not')\n",
    "    review = [ps.stem(word) for word in review if not word in set(all_stopwords)]\n",
    "    review = ' '.join(review)\n",
    "\n",
    "    # Convert review to a matrix of token counts\n",
    "    x_new = cv.transform([review]).toarray()\n",
    "\n",
    "    # Predict using the trained Naive Bayes model\n",
    "    prediction = gnb.predict(x_new)\n",
    "\n",
    "    return prediction[0]"
   ]
  },
  {
   "cell_type": "code",
   "execution_count": 7,
   "id": "b0d523bc",
   "metadata": {},
   "outputs": [
    {
     "name": "stdout",
     "output_type": "stream",
     "text": [
      "Enter review: Meh!\n",
      "Predicted sentiment:\n",
      "Negative\n"
     ]
    }
   ],
   "source": [
    "# Sample usage:\n",
    "customer_review = input(\"Enter review: \")\n",
    "result = predict_review(customer_review)\n",
    "\n",
    "print(\"Predicted sentiment:\")\n",
    "if result == 1:\n",
    "    print(\"Positive\")\n",
    "else:\n",
    "    print(\"Negative\")"
   ]
  },
  {
   "cell_type": "code",
   "execution_count": 9,
   "id": "357a3f77",
   "metadata": {},
   "outputs": [
    {
     "name": "stdout",
     "output_type": "stream",
     "text": [
      "Enter your review (or type 'exit' to stop): The food's not that great...\n"
     ]
    },
    {
     "name": "stderr",
     "output_type": "stream",
     "text": [
      "C:\\Users\\ASUS\\AppData\\Local\\Temp\\ipykernel_4200\\2797102990.py:15: FutureWarning: The frame.append method is deprecated and will be removed from pandas in a future version. Use pandas.concat instead.\n",
      "  df_reviews = df_reviews.append({'Review': customer_review, 'Sentiment': result}, ignore_index=True)\n"
     ]
    },
    {
     "name": "stdout",
     "output_type": "stream",
     "text": [
      "Predicted sentiment:\n",
      "Positive\n",
      "Enter your review (or type 'exit' to stop): Meh!\n"
     ]
    },
    {
     "name": "stderr",
     "output_type": "stream",
     "text": [
      "C:\\Users\\ASUS\\AppData\\Local\\Temp\\ipykernel_4200\\2797102990.py:15: FutureWarning: The frame.append method is deprecated and will be removed from pandas in a future version. Use pandas.concat instead.\n",
      "  df_reviews = df_reviews.append({'Review': customer_review, 'Sentiment': result}, ignore_index=True)\n"
     ]
    },
    {
     "name": "stdout",
     "output_type": "stream",
     "text": [
      "Predicted sentiment:\n",
      "Negative\n",
      "Enter your review (or type 'exit' to stop): It's just downright horrible!\n"
     ]
    },
    {
     "name": "stderr",
     "output_type": "stream",
     "text": [
      "C:\\Users\\ASUS\\AppData\\Local\\Temp\\ipykernel_4200\\2797102990.py:15: FutureWarning: The frame.append method is deprecated and will be removed from pandas in a future version. Use pandas.concat instead.\n",
      "  df_reviews = df_reviews.append({'Review': customer_review, 'Sentiment': result}, ignore_index=True)\n"
     ]
    },
    {
     "name": "stdout",
     "output_type": "stream",
     "text": [
      "Predicted sentiment:\n",
      "Negative\n",
      "Enter your review (or type 'exit' to stop): 0\n"
     ]
    },
    {
     "name": "stderr",
     "output_type": "stream",
     "text": [
      "C:\\Users\\ASUS\\AppData\\Local\\Temp\\ipykernel_4200\\2797102990.py:15: FutureWarning: The frame.append method is deprecated and will be removed from pandas in a future version. Use pandas.concat instead.\n",
      "  df_reviews = df_reviews.append({'Review': customer_review, 'Sentiment': result}, ignore_index=True)\n"
     ]
    },
    {
     "name": "stdout",
     "output_type": "stream",
     "text": [
      "Predicted sentiment:\n",
      "Positive\n",
      "Enter your review (or type 'exit' to stop): 1\n"
     ]
    },
    {
     "name": "stderr",
     "output_type": "stream",
     "text": [
      "C:\\Users\\ASUS\\AppData\\Local\\Temp\\ipykernel_4200\\2797102990.py:15: FutureWarning: The frame.append method is deprecated and will be removed from pandas in a future version. Use pandas.concat instead.\n",
      "  df_reviews = df_reviews.append({'Review': customer_review, 'Sentiment': result}, ignore_index=True)\n"
     ]
    },
    {
     "name": "stdout",
     "output_type": "stream",
     "text": [
      "Predicted sentiment:\n",
      "Positive\n",
      "Enter your review (or type 'exit' to stop): I'd recommend a 1 star at best out of 5\n"
     ]
    },
    {
     "name": "stderr",
     "output_type": "stream",
     "text": [
      "C:\\Users\\ASUS\\AppData\\Local\\Temp\\ipykernel_4200\\2797102990.py:15: FutureWarning: The frame.append method is deprecated and will be removed from pandas in a future version. Use pandas.concat instead.\n",
      "  df_reviews = df_reviews.append({'Review': customer_review, 'Sentiment': result}, ignore_index=True)\n"
     ]
    },
    {
     "name": "stdout",
     "output_type": "stream",
     "text": [
      "Predicted sentiment:\n",
      "Positive\n",
      "Enter your review (or type 'exit' to stop): Service is acceptable\n"
     ]
    },
    {
     "name": "stderr",
     "output_type": "stream",
     "text": [
      "C:\\Users\\ASUS\\AppData\\Local\\Temp\\ipykernel_4200\\2797102990.py:15: FutureWarning: The frame.append method is deprecated and will be removed from pandas in a future version. Use pandas.concat instead.\n",
      "  df_reviews = df_reviews.append({'Review': customer_review, 'Sentiment': result}, ignore_index=True)\n"
     ]
    },
    {
     "name": "stdout",
     "output_type": "stream",
     "text": [
      "Predicted sentiment:\n",
      "Positive\n",
      "Enter your review (or type 'exit' to stop): The maid outfits are sexy!\n"
     ]
    },
    {
     "name": "stderr",
     "output_type": "stream",
     "text": [
      "C:\\Users\\ASUS\\AppData\\Local\\Temp\\ipykernel_4200\\2797102990.py:15: FutureWarning: The frame.append method is deprecated and will be removed from pandas in a future version. Use pandas.concat instead.\n",
      "  df_reviews = df_reviews.append({'Review': customer_review, 'Sentiment': result}, ignore_index=True)\n"
     ]
    },
    {
     "name": "stdout",
     "output_type": "stream",
     "text": [
      "Predicted sentiment:\n",
      "Positive\n",
      "Enter your review (or type 'exit' to stop): Behavior of the waiter was disappointing.\n"
     ]
    },
    {
     "name": "stderr",
     "output_type": "stream",
     "text": [
      "C:\\Users\\ASUS\\AppData\\Local\\Temp\\ipykernel_4200\\2797102990.py:15: FutureWarning: The frame.append method is deprecated and will be removed from pandas in a future version. Use pandas.concat instead.\n",
      "  df_reviews = df_reviews.append({'Review': customer_review, 'Sentiment': result}, ignore_index=True)\n"
     ]
    },
    {
     "name": "stdout",
     "output_type": "stream",
     "text": [
      "Predicted sentiment:\n",
      "Positive\n",
      "Enter your review (or type 'exit' to stop): the waiter was rude\n"
     ]
    },
    {
     "name": "stderr",
     "output_type": "stream",
     "text": [
      "C:\\Users\\ASUS\\AppData\\Local\\Temp\\ipykernel_4200\\2797102990.py:15: FutureWarning: The frame.append method is deprecated and will be removed from pandas in a future version. Use pandas.concat instead.\n",
      "  df_reviews = df_reviews.append({'Review': customer_review, 'Sentiment': result}, ignore_index=True)\n"
     ]
    },
    {
     "name": "stdout",
     "output_type": "stream",
     "text": [
      "Predicted sentiment:\n",
      "Negative\n",
      "Enter your review (or type 'exit' to stop): the food is rotten\n"
     ]
    },
    {
     "name": "stderr",
     "output_type": "stream",
     "text": [
      "C:\\Users\\ASUS\\AppData\\Local\\Temp\\ipykernel_4200\\2797102990.py:15: FutureWarning: The frame.append method is deprecated and will be removed from pandas in a future version. Use pandas.concat instead.\n",
      "  df_reviews = df_reviews.append({'Review': customer_review, 'Sentiment': result}, ignore_index=True)\n"
     ]
    },
    {
     "name": "stdout",
     "output_type": "stream",
     "text": [
      "Predicted sentiment:\n",
      "Positive\n",
      "Enter your review (or type 'exit' to stop): delicious\n"
     ]
    },
    {
     "name": "stderr",
     "output_type": "stream",
     "text": [
      "C:\\Users\\ASUS\\AppData\\Local\\Temp\\ipykernel_4200\\2797102990.py:15: FutureWarning: The frame.append method is deprecated and will be removed from pandas in a future version. Use pandas.concat instead.\n",
      "  df_reviews = df_reviews.append({'Review': customer_review, 'Sentiment': result}, ignore_index=True)\n"
     ]
    },
    {
     "name": "stdout",
     "output_type": "stream",
     "text": [
      "Predicted sentiment:\n",
      "Positive\n",
      "Enter your review (or type 'exit' to stop): smelly\n"
     ]
    },
    {
     "name": "stderr",
     "output_type": "stream",
     "text": [
      "C:\\Users\\ASUS\\AppData\\Local\\Temp\\ipykernel_4200\\2797102990.py:15: FutureWarning: The frame.append method is deprecated and will be removed from pandas in a future version. Use pandas.concat instead.\n",
      "  df_reviews = df_reviews.append({'Review': customer_review, 'Sentiment': result}, ignore_index=True)\n"
     ]
    },
    {
     "name": "stdout",
     "output_type": "stream",
     "text": [
      "Predicted sentiment:\n",
      "Positive\n",
      "Enter your review (or type 'exit' to stop): exit\n"
     ]
    }
   ],
   "source": [
    "# Initialize an empty DataFrame to store reviews and their predictions\n",
    "df_reviews = pd.DataFrame(columns=['Review', 'Sentiment'])\n",
    "\n",
    "# Sample usage:\n",
    "while True:\n",
    "    customer_review = input(\"Enter your review (or type 'exit' to stop): \")\n",
    "    \n",
    "    # Break loop if user enters 'exit'\n",
    "    if customer_review.strip().lower() == 'exit':\n",
    "        break\n",
    "\n",
    "    result = predict_review(customer_review)\n",
    "    \n",
    "    # Append the review and its prediction to the DataFrame\n",
    "    df_reviews = df_reviews.append({'Review': customer_review, 'Sentiment': result}, ignore_index=True)\n",
    "\n",
    "    print(\"Predicted sentiment:\")\n",
    "    if result == 1:\n",
    "        print(\"Positive\")\n",
    "    else:\n",
    "        print(\"Negative\")\n",
    "\n",
    "# Save the DataFrame to a new .tsv file\n",
    "path = 'C:\\\\Users\\\\ASUS\\\\Desktop\\\\NLP\\\\customer_reviews.tsv'  # specify your desired path here\n",
    "df_reviews.to_csv(path, sep='\\t', index=False)"
   ]
  },
  {
   "cell_type": "code",
   "execution_count": null,
   "id": "5fbf7844",
   "metadata": {},
   "outputs": [],
   "source": []
  }
 ],
 "metadata": {
  "kernelspec": {
   "display_name": "Python 3 (ipykernel)",
   "language": "python",
   "name": "python3"
  },
  "language_info": {
   "codemirror_mode": {
    "name": "ipython",
    "version": 3
   },
   "file_extension": ".py",
   "mimetype": "text/x-python",
   "name": "python",
   "nbconvert_exporter": "python",
   "pygments_lexer": "ipython3",
   "version": "3.10.9"
  }
 },
 "nbformat": 4,
 "nbformat_minor": 5
}
